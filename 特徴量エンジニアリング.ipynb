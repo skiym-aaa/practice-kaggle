{
  "nbformat": 4,
  "nbformat_minor": 0,
  "metadata": {
    "colab": {
      "name": "特徴量エンジニアリング",
      "provenance": [],
      "authorship_tag": "ABX9TyPADkCzT1fUV1yNH7tKI/3c",
      "include_colab_link": true
    },
    "kernelspec": {
      "name": "python3",
      "display_name": "Python 3"
    }
  },
  "cells": [
    {
      "cell_type": "markdown",
      "metadata": {
        "id": "view-in-github",
        "colab_type": "text"
      },
      "source": [
        "<a href=\"https://colab.research.google.com/github/skiym-aaa/practice-kaggle/blob/master/%E7%89%B9%E5%BE%B4%E9%87%8F%E3%82%A8%E3%83%B3%E3%82%B8%E3%83%8B%E3%82%A2%E3%83%AA%E3%83%B3%E3%82%B0.ipynb\" target=\"_parent\"><img src=\"https://colab.research.google.com/assets/colab-badge.svg\" alt=\"Open In Colab\"/></a>"
      ]
    },
    {
      "cell_type": "code",
      "metadata": {
        "id": "JYOO6lkjQCl5",
        "colab_type": "code",
        "colab": {
          "base_uri": "https://localhost:8080/",
          "height": 335
        },
        "outputId": "485eb685-b563-432c-e0bd-f40742afa4bf"
      },
      "source": [
        "%matplotlib inline\n",
        "import warnings\n",
        "import numpy as np\n",
        "import pandas as pd\n",
        "import xgboost as xgb\n",
        "import matplotlib.pylab as plt\n",
        "\n",
        "from sklearn.metrics import accuracy_score\n",
        "from sklearn.model_selection import StratifiedKFold\n",
        "\n",
        "warnings.filterwarnings('ignore')\n",
        "\n",
        "\n",
        "def validate(train_x, train_y):\n",
        "    accuracies = []\n",
        "    feature_importances = []\n",
        "\n",
        "    cv = StratifiedKFold(n_splits=3, shuffle=True, random_state=0)\n",
        "    for train_idx, test_idx in cv.split(train_x, train_y):\n",
        "        trn_x = train_x.iloc[train_idx, :]\n",
        "        val_x = train_x.iloc[test_idx, :]\n",
        "\n",
        "        trn_y = train_y.iloc[train_idx]\n",
        "        val_y = train_y.iloc[test_idx]\n",
        "\n",
        "        clf = xgb.XGBClassifier()\n",
        "        clf.fit(trn_x, trn_y)\n",
        "\n",
        "        pred_y = clf.predict(val_x)\n",
        "        feature_importances.append(clf.feature_importances_)\n",
        "        accuracies.append(accuracy_score(val_y, pred_y))\n",
        "    print(np.mean(accuracies))\n",
        "    return accuracies, feature_importances\n",
        "\n",
        "\n",
        "def plot_feature_importances(feature_importances, cols):\n",
        "    df_fimp = pd.DataFrame(feature_importances, columns=cols)\n",
        "    df_fimp.plot(kind=\"box\", rot=90)\n",
        "\n",
        "\n",
        "def preprocess_df(df):\n",
        "    # CabinはこのあとDropするので、コードから削除\n",
        "    df[\"Age\"] = df[\"Age\"].fillna(df[\"Age\"].mean())\n",
        "    df[\"Embarked\"] = df[\"Embarked\"].fillna(df[\"Embarked\"].mode())\n",
        "    \n",
        "    # 列の削除\n",
        "    df.drop([\"Name\", \"Ticket\", \"Cabin\"], axis=1, inplace=True)\n",
        "    \n",
        "    # Sexの01化とEmbarkedのダミー化 \n",
        "    df[\"Sex\"] = df[\"Sex\"].replace({\"male\": 0, \"female\": 1})\n",
        "    df = pd.get_dummies(df)\n",
        "\n",
        "    return df\n",
        "\n",
        "\n",
        "# test dataのpredict\n",
        "def predict_df(train_x, train_y, test_x, df_test_raw, path_output=\"result.csv\"):\n",
        "    clf = xgb.XGBClassifier()\n",
        "    clf.fit(train_x, train_y)\n",
        "    preds = clf.predict(test_x)\n",
        "    \n",
        "    _df = pd.DataFrame()\n",
        "    _df[\"PassengerId\"] = df_test_raw[\"PassengerId\"]\n",
        "    _df[\"Survived\"] = preds\n",
        "    _df.to_csv(path_output, index=False)\n",
        "\n",
        "\n",
        "# デバッグするときはmain関数から外して、直で叩く方が楽です。\n",
        "def main():\n",
        "    df_train = pd.read_csv(\"train.csv\")\n",
        "\n",
        "    # ここは前処理\n",
        "    train_y = df_train[\"Survived\"]\n",
        "    train_x = df_train.drop(\"Survived\", axis=1)\n",
        "\n",
        "    train_x = preprocess_df(train_x)\n",
        "    accuracies, feature_importances = validate(train_x, train_y)\n",
        "    plot_feature_importances(feature_importances, train_x.columns)\n",
        "\n",
        "    flag_product = True\n",
        "    if flag_product:\n",
        "        df_test = pd.read_csv(\"test.csv\")\n",
        "        df_test_raw = df_test.copy()\n",
        "        test_x = preprocess_df(df_test)\n",
        "        predict_df(train_x, train_y, test_x, df_test_raw, \"result.csv\")\n",
        "\n",
        "\n",
        "#  `if __name__ == '__main__':` はおまじないのようなモノと思ってください。\n",
        "if __name__ == '__main__':\n",
        "    main()"
      ],
      "execution_count": 2,
      "outputs": [
        {
          "output_type": "stream",
          "text": [
            "0.8136924803591471\n"
          ],
          "name": "stdout"
        },
        {
          "output_type": "display_data",
          "data": {
            "image/png": "[encoded data removed]",
            "text/plain": [
              "<Figure size 432x288 with 1 Axes>"
            ]
          },
          "metadata": {
            "tags": [],
            "needs_background": "light"
          }
        }
      ]
    },
    {
      "cell_type": "code",
      "metadata": {
        "id": "C45Igpa3ZCs9",
        "colab_type": "code",
        "colab": {
          "base_uri": "https://localhost:8080/",
          "height": 335
        },
        "outputId": "704975d5-f586-4d65-8ffa-77ccbed4f86c"
      },
      "source": [
        "def preprocess_df(df):\n",
        "\n",
        "    df[\"Age\"] = df[\"Age\"].fillna(df[\"Age\"].mean())\n",
        "    df[\"Embarked\"] = df[\"Embarked\"].fillna(df[\"Embarked\"].mode())\n",
        "    \n",
        "    df.drop([\"Name\", \"Ticket\", \"Cabin\", \"PassengerId\"], axis=1, inplace=True)\n",
        "    \n",
        "    df[\"Sex\"] = df[\"Sex\"].replace({\"male\": 0, \"female\": 1})\n",
        "    df = pd.get_dummies(df)\n",
        "\n",
        "    return df\n",
        "\n",
        "if __name__ == '__main__':\n",
        "    main()"
      ],
      "execution_count": 4,
      "outputs": [
        {
          "output_type": "stream",
          "text": [
            "0.8114478114478114\n"
          ],
          "name": "stdout"
        },
        {
          "output_type": "display_data",
          "data": {
            "image/png": "[encoded data removed]",
            "text/plain": [
              "<Figure size 432x288 with 1 Axes>"
            ]
          },
          "metadata": {
            "tags": [],
            "needs_background": "light"
          }
        }
      ]
    },
    {
      "cell_type": "code",
      "metadata": {
        "id": "65dv0wtZagBb",
        "colab_type": "code",
        "colab": {
          "base_uri": "https://localhost:8080/",
          "height": 335
        },
        "outputId": "1c30bf68-2d2f-4ff7-ede2-0d8beb751da3"
      },
      "source": [
        "def preprocess_df(df):\n",
        "\n",
        "    df[\"Age\"] = df[\"Age\"].fillna(df[\"Age\"].mean())\n",
        "    df[\"Embarked\"] = df[\"Embarked\"].fillna(df[\"Embarked\"].mode())\n",
        "    df[\"FamilySize\"] = df[\"SibSp\"] + df[\"Parch\"] + 1\n",
        "   \n",
        "    df.drop([\"Name\", \"Ticket\", \"Cabin\", \"PassengerId\"], axis=1, inplace=True)\n",
        "    \n",
        "    df[\"Sex\"] = df[\"Sex\"].replace({\"male\": 0, \"female\": 1})\n",
        "    df = pd.get_dummies(df)\n",
        "\n",
        "    return df\n",
        "\n",
        "if __name__ == '__main__':\n",
        "    main()\n"
      ],
      "execution_count": 6,
      "outputs": [
        {
          "output_type": "stream",
          "text": [
            "0.8159371492704826\n"
          ],
          "name": "stdout"
        },
        {
          "output_type": "display_data",
          "data": {
            "image/png": "[encoded data removed]",
            "text/plain": [
              "<Figure size 432x288 with 1 Axes>"
            ]
          },
          "metadata": {
            "tags": [],
            "needs_background": "light"
          }
        }
      ]
    },
    {
      "cell_type": "code",
      "metadata": {
        "id": "f0c3-1QlcLl5",
        "colab_type": "code",
        "colab": {
          "base_uri": "https://localhost:8080/",
          "height": 336
        },
        "outputId": "2a84ee35-6248-4bb8-f3c2-393c6146bf18"
      },
      "source": [
        "def preprocess_df(df):\n",
        "\n",
        "    df[\"Age\"] = df[\"Age\"].fillna(df[\"Age\"].mean())\n",
        "    df[\"Embarked\"] = df[\"Embarked\"].fillna(df[\"Embarked\"].mode())\n",
        "    df[\"FamilySize\"] = df[\"SibSp\"] + df[\"Parch\"] + 1\n",
        "   \n",
        "    df.drop([\"Name\", \"Ticket\", \"Cabin\", \"PassengerId\"], axis=1, inplace=True)\n",
        "\n",
        "    df[\"Sex\"] = df[\"Sex\"].replace({\"male\": 0, \"female\": 1})\n",
        "    df = pd.get_dummies(df)\n",
        "    \n",
        "    df[\"None_Parch\"] = [1 if val == 0 else 0 for val in df[\"Parch\"]]\n",
        "    df[\"None_SibSp\"] = [1 if val == 0 else 0 for val in df[\"SibSp\"]]\n",
        "    df[\"None_Family\"] = [1 if val == 1 else 0 for val in df[\"FamilySize\"]]\n",
        "\n",
        "    return df\n",
        "\n",
        "if __name__ == '__main__':\n",
        "    main()"
      ],
      "execution_count": 7,
      "outputs": [
        {
          "output_type": "stream",
          "text": [
            "0.8159371492704826\n"
          ],
          "name": "stdout"
        },
        {
          "output_type": "display_data",
          "data": {
            "image/png": "[encoded data removed]",
            "text/plain": [
              "<Figure size 432x288 with 1 Axes>"
            ]
          },
          "metadata": {
            "tags": [],
            "needs_background": "light"
          }
        }
      ]
    },
    {
      "cell_type": "code",
      "metadata": {
        "id": "YdrsvZqKdOJ5",
        "colab_type": "code",
        "colab": {
          "base_uri": "https://localhost:8080/",
          "height": 340
        },
        "outputId": "12c4a16d-a345-4cf2-df8a-6ff0f11d1ba0"
      },
      "source": [
        "def preprocess_df(df):\n",
        "\n",
        "    df[\"Age\"] = df[\"Age\"].fillna(df[\"Age\"].mean())\n",
        "    df[\"Embarked\"] = df[\"Embarked\"].fillna(df[\"Embarked\"].mode())\n",
        "    df[\"FamilySize\"] = df[\"SibSp\"] + df[\"Parch\"] + 1\n",
        "   \n",
        "    df.drop([\"Name\", \"Ticket\", \"Cabin\", \"PassengerId\"], axis=1, inplace=True)\n",
        "\n",
        "    df[\"Sex\"] = df[\"Sex\"].replace({\"male\": 0, \"female\": 1})\n",
        "    df = pd.get_dummies(df)\n",
        "    \n",
        "    df[\"Flag_Children\"] = [1 if val < 11 else 0 for val in df[\"Age\"]]\n",
        "\n",
        "    return df\n",
        "\n",
        "if __name__ == '__main__':\n",
        "    main()"
      ],
      "execution_count": 8,
      "outputs": [
        {
          "output_type": "stream",
          "text": [
            "0.8159371492704826\n"
          ],
          "name": "stdout"
        },
        {
          "output_type": "display_data",
          "data": {
            "image/png": "[encoded data removed]",
            "text/plain": [
              "<Figure size 432x288 with 1 Axes>"
            ]
          },
          "metadata": {
            "tags": [],
            "needs_background": "light"
          }
        }
      ]
    },
    {
      "cell_type": "code",
      "metadata": {
        "id": "xYRHNH1weQC0",
        "colab_type": "code",
        "colab": {}
      },
      "source": [
        ""
      ],
      "execution_count": null,
      "outputs": []
    }
  ]
}