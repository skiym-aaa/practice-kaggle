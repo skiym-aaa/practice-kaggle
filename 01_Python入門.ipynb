{
  "nbformat": 4,
  "nbformat_minor": 0,
  "metadata": {
    "colab": {
      "name": "01_Python入門",
      "provenance": [],
      "authorship_tag": "ABX9TyN71pagEhyjtFrvXB2DhhOl",
      "include_colab_link": true
    },
    "kernelspec": {
      "name": "python3",
      "display_name": "Python 3"
    }
  },
  "cells": [
    {
      "cell_type": "markdown",
      "metadata": {
        "id": "view-in-github",
        "colab_type": "text"
      },
      "source": [
        "<a href=\"https://colab.research.google.com/github/skiym-aaa/practice-kaggle/blob/master/01_Python%E5%85%A5%E9%96%80.ipynb\" target=\"_parent\"><img src=\"https://colab.research.google.com/assets/colab-badge.svg\" alt=\"Open In Colab\"/></a>"
      ]
    },
    {
      "cell_type": "code",
      "metadata": {
        "id": "IDFUYx1rVHOq",
        "colab_type": "code",
        "colab": {
          "base_uri": "https://localhost:8080/",
          "height": 34
        },
        "outputId": "d1db1867-02b1-44d9-c6f0-7ae9b30d8580"
      },
      "source": [
        "3+4"
      ],
      "execution_count": 1,
      "outputs": [
        {
          "output_type": "execute_result",
          "data": {
            "text/plain": [
              "7"
            ]
          },
          "metadata": {
            "tags": []
          },
          "execution_count": 1
        }
      ]
    },
    {
      "cell_type": "code",
      "metadata": {
        "id": "shZy71pDVX_U",
        "colab_type": "code",
        "colab": {
          "base_uri": "https://localhost:8080/",
          "height": 34
        },
        "outputId": "455e3e67-227d-4ff7-8508-4928c1c2cb28"
      },
      "source": [
        "print(\"Helloworld\")"
      ],
      "execution_count": 2,
      "outputs": [
        {
          "output_type": "stream",
          "text": [
            "Helloworld\n"
          ],
          "name": "stdout"
        }
      ]
    },
    {
      "cell_type": "code",
      "metadata": {
        "id": "sB_qkmqcV-Bg",
        "colab_type": "code",
        "colab": {
          "base_uri": "https://localhost:8080/",
          "height": 34
        },
        "outputId": "d8d4f764-5b26-4afe-d870-440593577968"
      },
      "source": [
        "var = \"Hello, World!!\"\n",
        "print(var)"
      ],
      "execution_count": 3,
      "outputs": [
        {
          "output_type": "stream",
          "text": [
            "Hello, World!!\n"
          ],
          "name": "stdout"
        }
      ]
    },
    {
      "cell_type": "code",
      "metadata": {
        "id": "vSgtxcL5WWl8",
        "colab_type": "code",
        "colab": {
          "base_uri": "https://localhost:8080/",
          "height": 34
        },
        "outputId": "3cde9390-95b4-4bcc-bff8-8a631b942fbf"
      },
      "source": [
        "print(len(\"30\"))"
      ],
      "execution_count": 4,
      "outputs": [
        {
          "output_type": "stream",
          "text": [
            "2\n"
          ],
          "name": "stdout"
        }
      ]
    },
    {
      "cell_type": "code",
      "metadata": {
        "id": "DmZL71j6WhpZ",
        "colab_type": "code",
        "colab": {
          "base_uri": "https://localhost:8080/",
          "height": 168
        },
        "outputId": "f09b8475-e026-4345-94a8-64d03e1f464a"
      },
      "source": [
        "print(len(30))"
      ],
      "execution_count": 5,
      "outputs": [
        {
          "output_type": "error",
          "ename": "TypeError",
          "evalue": "ignored",
          "traceback": [
            "\u001b[0;31m---------------------------------------------------------------------------\u001b[0m",
            "\u001b[0;31mTypeError\u001b[0m                                 Traceback (most recent call last)",
            "\u001b[0;32m<ipython-input-5-3381b90af945>\u001b[0m in \u001b[0;36m<module>\u001b[0;34m()\u001b[0m\n\u001b[0;32m----> 1\u001b[0;31m \u001b[0mprint\u001b[0m\u001b[0;34m(\u001b[0m\u001b[0mlen\u001b[0m\u001b[0;34m(\u001b[0m\u001b[0;36m30\u001b[0m\u001b[0;34m)\u001b[0m\u001b[0;34m)\u001b[0m\u001b[0;34m\u001b[0m\u001b[0;34m\u001b[0m\u001b[0m\n\u001b[0m",
            "\u001b[0;31mTypeError\u001b[0m: object of type 'int' has no len()"
          ]
        }
      ]
    },
    {
      "cell_type": "code",
      "metadata": {
        "id": "Vxjd4m4XWlOS",
        "colab_type": "code",
        "colab": {
          "base_uri": "https://localhost:8080/",
          "height": 34
        },
        "outputId": "ea3d2720-88a9-4dfc-c6ae-4f131f92e5ca"
      },
      "source": [
        "print(3.49)"
      ],
      "execution_count": 6,
      "outputs": [
        {
          "output_type": "stream",
          "text": [
            "3.49\n"
          ],
          "name": "stdout"
        }
      ]
    },
    {
      "cell_type": "code",
      "metadata": {
        "id": "G4X3sxETWujS",
        "colab_type": "code",
        "colab": {
          "base_uri": "https://localhost:8080/",
          "height": 34
        },
        "outputId": "22c3c0e8-6514-4f1b-da99-6ab56a675f7b"
      },
      "source": [
        "l = [1,2,3,4]\n",
        "print(l)"
      ],
      "execution_count": 7,
      "outputs": [
        {
          "output_type": "stream",
          "text": [
            "[1, 2, 3, 4]\n"
          ],
          "name": "stdout"
        }
      ]
    },
    {
      "cell_type": "code",
      "metadata": {
        "id": "oaNMkuUoW0ox",
        "colab_type": "code",
        "colab": {
          "base_uri": "https://localhost:8080/",
          "height": 34
        },
        "outputId": "425afc87-1261-4647-9d00-c4ffd560c5a8"
      },
      "source": [
        "d = {\n",
        "    \"apple\": 100,\n",
        "    \"orange\": 200,\n",
        "    \"kiwi\": 300\n",
        "}\n",
        "print(d[\"apple\"])"
      ],
      "execution_count": 8,
      "outputs": [
        {
          "output_type": "stream",
          "text": [
            "100\n"
          ],
          "name": "stdout"
        }
      ]
    },
    {
      "cell_type": "code",
      "metadata": {
        "id": "8gpLG1hxXI-H",
        "colab_type": "code",
        "colab": {
          "base_uri": "https://localhost:8080/",
          "height": 85
        },
        "outputId": "9c4b9adc-3228-4b6c-d690-dbe39225db07"
      },
      "source": [
        "l = [1,2,3,4]\n",
        "for item in l:\n",
        "    print(item)"
      ],
      "execution_count": 10,
      "outputs": [
        {
          "output_type": "stream",
          "text": [
            "1\n",
            "2\n",
            "3\n",
            "4\n"
          ],
          "name": "stdout"
        }
      ]
    },
    {
      "cell_type": "code",
      "metadata": {
        "id": "NAh6vQ-xXTUq",
        "colab_type": "code",
        "colab": {
          "base_uri": "https://localhost:8080/",
          "height": 221
        },
        "outputId": "ced958f3-3f4f-40ed-e66a-68c4872faa23"
      },
      "source": [
        "d = {\n",
        "    \"apple\": 100,\n",
        "    \"orange\": 200,\n",
        "    \"kiwi\": 300,\n",
        "}\n",
        "\n",
        "print(\"--keys--\")\n",
        "for k in d.keys():\n",
        "    print(k)\n",
        "\n",
        "print(\"--values--\")\n",
        "for v in d.values():\n",
        "    print(v)\n",
        "\n",
        "print(\"--keys & values--\")\n",
        "for k, v in d.items():\n",
        "    print(k, v)"
      ],
      "execution_count": 11,
      "outputs": [
        {
          "output_type": "stream",
          "text": [
            "--keys--\n",
            "apple\n",
            "orange\n",
            "kiwi\n",
            "--values--\n",
            "100\n",
            "200\n",
            "300\n",
            "--keys & values--\n",
            "apple 100\n",
            "orange 200\n",
            "kiwi 300\n"
          ],
          "name": "stdout"
        }
      ]
    },
    {
      "cell_type": "code",
      "metadata": {
        "id": "oOJIjrDXYNwr",
        "colab_type": "code",
        "colab": {
          "base_uri": "https://localhost:8080/",
          "height": 34
        },
        "outputId": "b8ac12a0-f75e-4710-bd50-45927b3e9a93"
      },
      "source": [
        "oldlist = [1,2,3,4,5,6,7]\n",
        "newlist = [item if item % 2 == 0 else 1 for item in oldlist]\n",
        "print(newlist)"
      ],
      "execution_count": 13,
      "outputs": [
        {
          "output_type": "stream",
          "text": [
            "[1, 2, 1, 4, 1, 6, 1]\n"
          ],
          "name": "stdout"
        }
      ]
    },
    {
      "cell_type": "code",
      "metadata": {
        "id": "WuCKgOV9Y3yX",
        "colab_type": "code",
        "colab": {
          "base_uri": "https://localhost:8080/",
          "height": 34
        },
        "outputId": "b67405fb-7b0d-42a3-85f1-a2be08d0004b"
      },
      "source": [
        "l = [1,2,3,4]\n",
        "\n",
        "if 1 in l:\n",
        "    print(\"hoge\")\n",
        "if 5 in l:\n",
        "    print(\"huga\")"
      ],
      "execution_count": 14,
      "outputs": [
        {
          "output_type": "stream",
          "text": [
            "hoge\n"
          ],
          "name": "stdout"
        }
      ]
    },
    {
      "cell_type": "code",
      "metadata": {
        "id": "FK5Spqy4ZWhT",
        "colab_type": "code",
        "colab": {
          "base_uri": "https://localhost:8080/",
          "height": 51
        },
        "outputId": "1d979ade-d10f-4757-82c9-2d510245dd82"
      },
      "source": [
        "d = {\n",
        "    \"apple\": 100,\n",
        "    \"orange\": 200,\n",
        "    \"kiwi\": 300\n",
        "}\n",
        "\n",
        "if \"orange\" in d.keys():\n",
        "    print(\"hoge\")\n",
        "\n",
        "if 300 in d.values():\n",
        "    print(\"huga\")"
      ],
      "execution_count": 15,
      "outputs": [
        {
          "output_type": "stream",
          "text": [
            "hoge\n",
            "huga\n"
          ],
          "name": "stdout"
        }
      ]
    },
    {
      "cell_type": "code",
      "metadata": {
        "id": "6XDZRoN5ZxDj",
        "colab_type": "code",
        "colab": {}
      },
      "source": [
        ""
      ],
      "execution_count": null,
      "outputs": []
    }
  ]
}